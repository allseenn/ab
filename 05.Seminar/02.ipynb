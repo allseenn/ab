{
 "cells": [
  {
   "attachments": {},
   "cell_type": "markdown",
   "metadata": {},
   "source": [
    "## ARPU average revenue per user ## \n",
    "Мы провели АБ-тест на увеличение ARPU. По итогам тестирования мы получили следующие данные. Является ли результат статистически значимым с уровнем доверия 95%? Какую версию мы выкатим в продакшн ?"
   ]
  },
  {
   "cell_type": "code",
   "execution_count": 5,
   "metadata": {},
   "outputs": [
    {
     "data": {
      "text/plain": [
       "(-2.648019991527141, 0.6480199915271412)"
      ]
     },
     "execution_count": 5,
     "metadata": {},
     "output_type": "execute_result"
    }
   ],
   "source": [
    "mean_a = 300\n",
    "mean_b = 301\n",
    "sd_a = 20\n",
    "sd_b = 5\n",
    "size_a = 600\n",
    "size_b = 620\n",
    "md = mean_a - mean_b\n",
    "se = ((pow(sd_a, 2)/size_a) + (pow(sd_b, 2)/size_b))**0.5\n",
    "left = md - 1.96 * se\n",
    "right = md + 1.96 * se\n",
    "left, right"
   ]
  }
 ],
 "metadata": {
  "kernelspec": {
   "display_name": "Python 3",
   "language": "python",
   "name": "python3"
  },
  "language_info": {
   "codemirror_mode": {
    "name": "ipython",
    "version": 3
   },
   "file_extension": ".py",
   "mimetype": "text/x-python",
   "name": "python",
   "nbconvert_exporter": "python",
   "pygments_lexer": "ipython3",
   "version": "3.10.7"
  },
  "orig_nbformat": 4
 },
 "nbformat": 4,
 "nbformat_minor": 2
}
