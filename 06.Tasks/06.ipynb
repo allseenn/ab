{
 "cells": [
  {
   "attachments": {},
   "cell_type": "markdown",
   "metadata": {},
   "source": [
    "## Задача 1 ##\n",
    "Продакт на главной mail.ru решил протестировать в рекомендательной ленте контента вместо карточек со статьями видеоплеер с короткими видео. Нынешний таймспент на юзера в день в среднем равен 25 минут, а стандартная ошибка (SD) равна 156. Мы предполагаем, что в новой версии таймспент на юзера в день изменится на 10%. Средний трафик 20000 человек в день. Посчитайте сколько дней необходимо держать эксперимент при alpha = 5% и beta = 20% ."
   ]
  },
  {
   "cell_type": "code",
   "execution_count": 38,
   "metadata": {},
   "outputs": [
    {
     "data": {
      "text/plain": [
       "6.1124"
      ]
     },
     "execution_count": 38,
     "metadata": {},
     "output_type": "execute_result"
    }
   ],
   "source": [
    "from typing import Union\n",
    "from math import asin\n",
    "from statsmodels.stats.power import tt_ind_solve_power, zt_ind_solve_power\n",
    "\n",
    "def calc_continuous_effect_size(mean_1: Union[float, int],\n",
    "                                std_1: Union[float, int],\n",
    "                                mean_2: Union[float, int],\n",
    "                                std_2: Union[float, int],\n",
    "                                nobs_1: int = 10_000,\n",
    "                                nobs_2: int = 10_000):\n",
    "    \n",
    "    es_formula = (mean_1 - mean_2) / ((std_1**2 + std_2**2) / 2) ** 0.5  \n",
    "    return es_formula\n",
    "\n",
    "def calc_sample_size_continuous(effect_size: float,\n",
    "                                alpha: float = .05,\n",
    "                                beta: float = .2,\n",
    "                                ratio: Union[float, int] = 1):\n",
    "    \n",
    "    n = tt_ind_solve_power(effect_size=effect_size,\n",
    "                           alpha=alpha,\n",
    "                           power=(1 - beta),\n",
    "                           ratio=ratio,\n",
    "                  )\n",
    "    return int(n * 2)\n",
    "\n",
    "\n",
    "mu_control, mu_test = 25, 25*1.10\n",
    "std_control, std_test = 156, 156\n",
    "traffic_per_day = 20000\n",
    "\n",
    "\n",
    "effect_size = calc_continuous_effect_size(mean_1=mu_control, std_1=std_control, mean_2=mu_test, std_2=std_test)\n",
    "traffic = calc_sample_size_continuous(effect_size=effect_size, alpha=.05, beta=.2)\n",
    "\n",
    "traffic/traffic_per_day"
   ]
  },
  {
   "attachments": {},
   "cell_type": "markdown",
   "metadata": {},
   "source": [
    "**Ответ:** Неделю необходимо держать эксперимент, при условии что мы весь трафик отдали под эксперимент. Я бы выделил месяц, для проведения эксперимента с 25% ежедневного трафика, т.е. примерно 12% пользователей будут получать видео вместо карточек. Опасения связанны с тем, что работа с видео (хранение, организация потока) требует больших мощностей и как поведут сервера компании под большой нагрузкой у меня нет данных. Более того, со стороны пользователей системные требования к ПК или смартфонам, тоже увеличиваются - это может сказаться на репутации компании, т.к. сайт либо будет дольше загружаться, либо в виду отсутствия мощного \"железа\" пользователь предпочтет конкурентов."
   ]
  },
  {
   "attachments": {},
   "cell_type": "markdown",
   "metadata": {},
   "source": [
    "## Задача 2 ## \n",
    "Наша продуктовая команда в ecommerce магазине планирует запустить тест, направленный на ускорение загрузки сайта. Одна из основных метрик bounce rate в GA = 40%. Мы предполагаем, что при оптимизации сайта она изменится минимум на 20%.Средний трафик 4000 человек в день. Посчитайте сколько нам нужно дней держать эксперимент при alpha = 5% и beta = 20%"
   ]
  },
  {
   "cell_type": "code",
   "execution_count": 39,
   "metadata": {},
   "outputs": [
    {
     "name": "stdout",
     "output_type": "stream",
     "text": [
      "0.4 0.48\n"
     ]
    },
    {
     "data": {
      "text/plain": [
       "1205"
      ]
     },
     "execution_count": 39,
     "metadata": {},
     "output_type": "execute_result"
    }
   ],
   "source": [
    "from typing import Union\n",
    "from math import asin\n",
    "from statsmodels.stats.power import tt_ind_solve_power, zt_ind_solve_power\n",
    "\n",
    "def calc_propotion_effect_size(conv_1: int, nobs_1: int, conv_2: int, nobs_2: int):\n",
    "    prob_1, prob_2 = conv_1 / nobs_1, conv_2 / nobs_2\n",
    "    es_formula = 2  * asin(prob_1**0.5) - 2 * asin(prob_2**0.5) \n",
    "    return es_formula\n",
    "\n",
    "def calc_sample_size_proportion(effect_size: float,\n",
    "                                alpha: float = .05,\n",
    "                                beta: float = .2,\n",
    "                                ratio: Union[float, int] = 1):\n",
    "    \n",
    "    n = zt_ind_solve_power(effect_size=effect_size,\n",
    "                           alpha=alpha,\n",
    "                           power=(1 - beta),\n",
    "                           ratio=ratio,\n",
    "                  )\n",
    "    return int(n * 2)\n",
    "\n",
    "conv_1, conv_2 = 40, 40*1.2\n",
    "nobs_1, nobs_2 = 100, 100\n",
    "prob_1, prob_2 = conv_1 / nobs_1, conv_2 / nobs_2 \n",
    "print(prob_1, prob_2)\n",
    "effect_size = calc_propotion_effect_size(conv_1=conv_1, nobs_1=nobs_1, conv_2=conv_2, nobs_2=nobs_2)\n",
    "calc_sample_size_proportion(effect_size=effect_size, alpha=.05, beta=.2)"
   ]
  }
 ],
 "metadata": {
  "kernelspec": {
   "display_name": "Python 3",
   "language": "python",
   "name": "python3"
  },
  "language_info": {
   "codemirror_mode": {
    "name": "ipython",
    "version": 3
   },
   "file_extension": ".py",
   "mimetype": "text/x-python",
   "name": "python",
   "nbconvert_exporter": "python",
   "pygments_lexer": "ipython3",
   "version": "3.10.7"
  },
  "orig_nbformat": 4
 },
 "nbformat": 4,
 "nbformat_minor": 2
}
