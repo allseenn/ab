{
  "nbformat": 4,
  "nbformat_minor": 0,
  "metadata": {
    "colab": {
      "provenance": [],
      "authorship_tag": "ABX9TyODh59odXyCsKEES4PyRRhO",
      "include_colab_link": true
    },
    "kernelspec": {
      "name": "python3",
      "display_name": "Python 3"
    },
    "language_info": {
      "name": "python"
    }
  },
  "cells": [
    {
      "cell_type": "markdown",
      "metadata": {
        "id": "view-in-github",
        "colab_type": "text"
      },
      "source": [
        "<a href=\"https://colab.research.google.com/github/allseenn/ab/blob/main/terms.ipynb\" target=\"_parent\"><img src=\"https://colab.research.google.com/assets/colab-badge.svg\" alt=\"Open In Colab\"/></a>"
      ]
    },
    {
      "cell_type": "markdown",
      "source": [
        "# Термины #\n",
        "\n",
        "Probability - вероятность\n",
        "population - генеральная совокупность\n",
        "sample - выборка\n",
        "\n",
        "\n",
        "рандомизация - случайная выборка\n"
      ],
      "metadata": {
        "id": "hLp1P6dmJEoa"
      }
    },
    {
      "cell_type": "markdown",
      "source": [
        "# Statisics #\n",
        "**Statistics** is a form of mathematical analysis that uses quantified models and representations for a given set of experimental data or real-life studies.\n",
        "+ Type of Analytics\n",
        "+ Probability\n",
        "+ Central Tendency\n",
        "+ Variability\n",
        "+ Relationship Between Variables\n",
        "+ Probability Distribution\n",
        "+ Hypothesis Testing and Statistical Significance\n",
        "+ Regression"
      ],
      "metadata": {
        "id": "pwLXkuNDWXX9"
      }
    },
    {
      "cell_type": "markdown",
      "source": [
        "\n",
        "## Type of Analytics ## \n",
        "+ Descriptive Analytics - описательная аналитика\n",
        "+ Diagnostic Analytics - диагностическая аналитика\n",
        "+ Predictive Analytics - предсказательная аналитика\n",
        "+ Prescriptive Analytics - предписывающая аналитика"
      ],
      "metadata": {
        "id": "YAPXgmBvVsNz"
      }
    },
    {
      "cell_type": "markdown",
      "source": [
        "## Probability ##\n",
        "Complement: P(A)+P(A’) =1 - Дополнение\n",
        "Intersection: P(A∩B)=P(A)P(B) - Пересечение\n",
        "Union: P(A∪B)=P(A)+P(B)−P(A∩B) - Объединиение\n",
        "Conditional Probability - Условная вероятность: P(A|B) - это мера вероятности возникновения одного события с некоторым отношением к одному или нескольким другим событиям. P(A|B)=P(A∩B)/P(B), когда P(B)>0\n",
        "Independent Events - Независимые события: два события независимы, если возникновение одного не влияет на вероятность возникновения другого. P(A∩B)=P(A)P(B), где P(A) != 0 и P(B) != 0, P(A|B)=P(A), P(B|A)=P(B).\n",
        "Mutually Exclusive Events - Взаимоисключающие события: два события взаимоисключающие, если они не могут произойти одновременно. P(A∩B)=0 и P(A∪B)=P(A)+P(B).\n",
        "Bayes’ Theorem - Теорема bayesa"
      ],
      "metadata": {
        "id": "JyExtDtFXNKJ"
      }
    }
  ]
}