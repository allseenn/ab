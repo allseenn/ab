{
  "nbformat": 4,
  "nbformat_minor": 0,
  "metadata": {
    "colab": {
      "provenance": [],
      "authorship_tag": "ABX9TyM10Km433A2IoAIPTU7GweR",
      "include_colab_link": true
    },
    "kernelspec": {
      "name": "python3",
      "display_name": "Python 3"
    },
    "language_info": {
      "name": "python"
    }
  },
  "cells": [
    {
      "cell_type": "markdown",
      "metadata": {
        "id": "view-in-github",
        "colab_type": "text"
      },
      "source": [
        "<a href=\"https://colab.research.google.com/github/allseenn/ab/blob/main/terms.ipynb\" target=\"_parent\"><img src=\"https://colab.research.google.com/assets/colab-badge.svg\" alt=\"Open In Colab\"/></a>"
      ]
    },
    {
      "cell_type": "markdown",
      "source": [
        "# Термины #\n",
        "\n",
        "Probability - вероятность\n",
        "population - генеральная совокупность\n",
        "sample - выборка\n",
        "\n",
        "\n",
        "рандомизация - случайная выборка\n"
      ],
      "metadata": {
        "id": "hLp1P6dmJEoa"
      }
    },
    {
      "cell_type": "markdown",
      "source": [
        "# Statisics #\n",
        "**Statistics** is a form of mathematical analysis that uses quantified models and representations for a given set of experimental data or real-life studies.\n",
        "+ Type of Analytics\n",
        "+ Probability\n",
        "+ Central Tendency\n",
        "+ Variability\n",
        "+ Relationship Between Variables\n",
        "+ Probability Distribution\n",
        "+ Hypothesis Testing and Statistical Significance\n",
        "+ Regression"
      ],
      "metadata": {
        "id": "pwLXkuNDWXX9"
      }
    },
    {
      "cell_type": "markdown",
      "source": [
        "\n",
        "## Type of Analytics ## \n",
        "**Descriptive Analytics** *(описательная аналитика)* - рассказывает нам, что произошло в прошлом, и помогает бизнесу понять, как он работает, предоставляя контекст, помогающий заинтересованным сторонам интерпретировать информацию.\n",
        "\n",
        "**Diagnostic Analytics** *(диагностическая аналитика)* - глубже чем просто описание данных, помогает понять, почему что-то произошло в прошлом. \n",
        "\n",
        "**Predictive Analytics** *предсказательная аналитика*- предсказывает, что, скорее всего, произойдет в будущем, и предоставляет компаниям полезную информацию на основе информации.\n",
        "\n",
        "**Prescriptive Analytics** (предписывающая аналитика) - предоставляет рекомендации относительно действий, которые будут использовать преимущества прогнозов и направлять возможные действия к решению."
      ],
      "metadata": {
        "id": "YAPXgmBvVsNz"
      }
    },
    {
      "cell_type": "markdown",
      "source": [
        "## Probability ##\n",
        "**Вероятность** — это мера возможности того, что событие произойдет в случайном эксперименте.\n",
        "\n",
        "**Complement** *(Дополнение)*: P(A)+P(A’) = 1\n",
        "\n",
        "**Intersection** *(Пересечение*): P(A∩B)=P(A)P(B)\n",
        "\n",
        "**Union** *(Объединиение)*: P(A∪B)=P(A)+P(B)−P(A∩B) \n",
        "\n",
        "**Conditional Probability** (Условная вероятность): P(A|B) - это мера возможности возникновения одного события с некоторым отношением к одному или нескольким другим событиям. P(A|B)=P(A∩B)/P(B), когда P(B)>0.\n",
        "\n",
        "**Independent Events** *(Независимые события)*: два события независимы, если возникновение одного не влияет на вероятность возникновения другого. P(A∩B)=P(A)P(B), где P(A) != 0 и P(B) != 0, P(A|B)=P(A), P(B|A)=P(B).\n",
        "\n",
        "**Mutually Exclusive Events** *(Взаимоисключающие (несовместные) события)*: два события взаимоисключающие, если они не могут произойти одновременно. P(A∩B)=0 и P(A∪B)=P(A)+P(B).\n",
        "**Bayes’ Theorem** *(Теорема bayesa)* $P(A|B) = \\frac{P(A\\cap B)}{P(B)} = \\frac{P(A)\\times P(B\\mid A)}{P(B)}$"
      ],
      "metadata": {
        "id": "JyExtDtFXNKJ"
      }
    },
    {
      "cell_type": "markdown",
      "source": [],
      "metadata": {
        "id": "OywUDbjgju32"
      }
    },
    {
      "cell_type": "markdown",
      "source": [
        "## Central Tendency *(Описательные статистики)* ##\n",
        "**Mean** (Среднее значение): среднее значение набора данных.\n",
        "\n",
        "**Median** (Медиана): среднее значение упорядоченного набора данных.\n",
        "\n",
        "**Skewness** (Перекос): мера симметрии.\n",
        "<img src=\"imp/skew.png\" width=\"400\">\n",
        "**Kurtosis** (Куртоз): мера того, являются ли данные тяжелохвостыми или легкохвостыми относительно нормального распределения.\n",
        "<img src=\"img/kurtic.png\" width=\"400\">\n"
      ],
      "metadata": {
        "id": "tlo94lB3kB2X"
      }
    }
  ]
}